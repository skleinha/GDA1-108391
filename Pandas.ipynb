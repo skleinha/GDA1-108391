{
 "cells": [
  {
   "cell_type": "markdown",
   "id": "728e081d-3434-4672-bfae-7f7dec2319b8",
   "metadata": {},
   "source": [
    "[//]: # (Repo GDA1-108391 zur Aufgabe 4: Erstellung eines Jupyter Notebooks zur Nachbildung der pandasintroduction Website mittels Python Code cells und Markdown cells)\n",
    "\n",
    "# Introduction to Pandas DataFrames\n",
    "<img src=\"Pandas.webp\" width=64% height=64%>\n",
    "\n",
    "[Pandas](https://pandas.pydata.org/) is a powerful and versatile library for Python, designed primarily for data manipulation and<br>analysis. To quote from Nvidia’s website:\n",
    "\n",
    "> Pandas is the most popular software library for data manipulation and data analysis for the Python<br>programming language. (www.nvidia.com)\n",
    "\n",
    "Here is an (incomplete) list of some key functionalities provided by Pandas:\n",
    "\n"
   ]
  },
  {
   "cell_type": "code",
   "execution_count": null,
   "id": "65f59b19-1dcc-4219-8b19-1807a351cae6",
   "metadata": {},
   "outputs": [],
   "source": []
  }
 ],
 "metadata": {
  "kernelspec": {
   "display_name": "Python 3 (ipykernel)",
   "language": "python",
   "name": "python3"
  },
  "language_info": {
   "codemirror_mode": {
    "name": "ipython",
    "version": 3
   },
   "file_extension": ".py",
   "mimetype": "text/x-python",
   "name": "python",
   "nbconvert_exporter": "python",
   "pygments_lexer": "ipython3",
   "version": "3.11.13"
  }
 },
 "nbformat": 4,
 "nbformat_minor": 5
}
