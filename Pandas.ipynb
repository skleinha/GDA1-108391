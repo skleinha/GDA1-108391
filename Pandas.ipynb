{
 "cells": [
  {
   "cell_type": "markdown",
   "id": "728e081d-3434-4672-bfae-7f7dec2319b8",
   "metadata": {},
   "source": [
    "[//]: # (Repo GDA1-108391 zur Aufgabe 4: Erstellung eines Jupyter Notebooks zur Nachbildung der pandasintroduction Website mittels Python Code cells und Markdown cells)\n",
    "\n",
    "# Introduction to Pandas DataFrames\n",
    "<img src=\"Pandas.webp\" width=64% height=64%>\n",
    "\n",
    "[Pandas](https://pandas.pydata.org/) is a powerful and versatile library for Python, designed primarily for data manipulation and<br>\n",
    "analysis. To quote from Nvidia’s website:\n",
    "\n",
    "> Pandas is the most popular software library for data manipulation and data analysis for the Python<br>programming language. (www.nvidia.com)\n",
    "\n",
    "Here is an (incomplete) list of some key functionalities provided by Pandas:\n",
    "\n",
    "1. Data Structures<br>\n",
    "    * *Series*: One-dimensional labeled array capable of holding data of any type.\n",
    "    * *DataFrame*: Two-dimensional, size-mutable, potentially heterogeneous tabular data structure<br>with labeled axes (rows and columns).\n",
    "2. Data Manipulation<br> \n",
    "    * *Data Selection* and Indexing: Access data via labels, indices, or boolean masks (`.loc`, .`iloc`, `.at`,<br>`.iat`).\n",
    "    * *Filtering*: Filter data based on conditions or queries.\n",
    "    * *Sorting*: Sort data by labels or values.\n",
    "    * *Handling Missing Data*: Identify, fill, or drop missing values (isnull, dropna, fillna).\n",
    "3. Data Cleaning<br>\n",
    "    * *Dropping* Duplicates: Remove duplicate rows or columns.\n",
    "    * *Replacing* Values: Replace specific values in the DataFrame.\n",
    "    * *String Operations*: Perform operations on string data, like splitting, replacing, and pattern<br>matching (`str.split`, `str.replace`).\n",
    "4. Aggregation and Grouping<br>\n",
    "    * *Group By*: Split data into groups based on criteria, and perform aggregate functions like sum,<br>mean, or custom operations.\n",
    "    * *Pivot Tables*: Create a pivot table to summarize data.\n",
    "5. Merging and Joining<br>\n",
    "    * *Concatenation*: Combine multiple DataFrames along a particular axis.\n",
    "    * *Merging*: Merge DataFrames similar to SQL joins (`merge`, `join`).\n",
    "6. Time Series<br>\n",
    "    * *Datetime Conversion*: Convert date and time data to a datetime object.\n",
    "    * *Resampling*: Aggregate data over a time period.\n",
    "    * *Time-based Indexing*: Access and manipulate time-series data easily with date indexing.\n",
    "7. Statistical and Mathematical Operations<br>\n",
    "    * *Descriptive Statistics*: Compute summary statistics for DataFrame columns.\n",
    "    * *Correlation/ Covariance*: Calculate the pairwise correlation or covariance between columns.\n",
    "    * *Cumulative Operations*: Perform cumulative operations on data.\n",
    "\n",
    "At the heart of Pandas lies the DataFrame, a two-dimensional labeled data structure with columns of<br>\n",
    "potentially different types, similar to a table in a relational database or an Excel spreadsheet.<br>\n",
    "Understanding DataFrames is crucial for anyone looking to perform data analysis in Python.\n",
    "\n",
    "# What is a DataFrame?\n",
    "---\n",
    "A DataFrame is a table-like structure in Pandas that consists of rows and columns, where each column can<br>\n",
    "hold different data types (e.g., integers, floats, strings). You can think of it as a collection of Series objects,<br>\n",
    "where each Series is a single column of data. DataFrames provide a highly efficient way to store and<br>\n",
    "manipulate large datasets in memory.\n",
    "\n",
    "# Creating a DataFrame\n",
    "---\n",
    "There are several ways to create a DataFrame in Pandas, but some of the most common methods are:\n",
    "1. From a Dictionary\n",
    "2. From a List of Lists\n",
    "3. From a CSV File\n",
    "Below we take a look at the first two approaches.\n",
    "\n",
    "# Creating DataFrame from a Dictionary\n",
    "The following code will create a DataFrame with three columns: ‘Name’, ‘Age’, and ‘City’, and three rows<br>\n",
    "corresponding to the data provided in the dictionary. To be able to use Pandas, we first have to import it.<br>\n",
    "This is done using the command `import pandas as pd`, introducing the alias `pd` for Pandas.\n",
    "\n"
   ]
  },
  {
   "cell_type": "code",
   "execution_count": 57,
   "id": "65f59b19-1dcc-4219-8b19-1807a351cae6",
   "metadata": {},
   "outputs": [
    {
     "data": {
      "text/html": [
       "<div>\n",
       "<style scoped>\n",
       "    .dataframe tbody tr th:only-of-type {\n",
       "        vertical-align: middle;\n",
       "    }\n",
       "\n",
       "    .dataframe tbody tr th {\n",
       "        vertical-align: top;\n",
       "    }\n",
       "\n",
       "    .dataframe thead th {\n",
       "        text-align: right;\n",
       "    }\n",
       "</style>\n",
       "<table border=\"1\" class=\"dataframe\">\n",
       "  <thead>\n",
       "    <tr style=\"text-align: right;\">\n",
       "      <th></th>\n",
       "      <th>Name</th>\n",
       "      <th>Age</th>\n",
       "      <th>City</th>\n",
       "    </tr>\n",
       "  </thead>\n",
       "  <tbody>\n",
       "    <tr>\n",
       "      <th>0</th>\n",
       "      <td>Alice</td>\n",
       "      <td>25</td>\n",
       "      <td>New York</td>\n",
       "    </tr>\n",
       "    <tr>\n",
       "      <th>1</th>\n",
       "      <td>Bob</td>\n",
       "      <td>30</td>\n",
       "      <td>Los Angeles</td>\n",
       "    </tr>\n",
       "    <tr>\n",
       "      <th>2</th>\n",
       "      <td>Charlie</td>\n",
       "      <td>35</td>\n",
       "      <td>Chicago</td>\n",
       "    </tr>\n",
       "  </tbody>\n",
       "</table>\n",
       "</div>"
      ],
      "text/plain": [
       "      Name  Age         City\n",
       "0    Alice   25     New York\n",
       "1      Bob   30  Los Angeles\n",
       "2  Charlie   35      Chicago"
      ]
     },
     "execution_count": 57,
     "metadata": {},
     "output_type": "execute_result"
    }
   ],
   "source": [
    "import pandas as pd\n",
    "\n",
    "data = {\n",
    "    'Name': ['Alice', 'Bob', 'Charlie'],\n",
    "    'Age': [25, 30, 35],\n",
    "    'City': ['New York', 'Los Angeles', 'Chicago']\n",
    "}\n",
    "\n",
    "df = pd.DataFrame(data)\n",
    "df"
   ]
  },
  {
   "cell_type": "markdown",
   "id": "cb637d37-f698-4fa4-963b-1ece09e54bb6",
   "metadata": {},
   "source": [
    "[//]: # (this is a comment for Python Code Section 1: Instead of print-funktion, I just typed pd for showing the output)"
   ]
  },
  {
   "cell_type": "markdown",
   "id": "641d7b7b-7882-4d5f-836c-473ed58655fe",
   "metadata": {},
   "source": [
    "# Creating DataFrame from a List of Lists\n",
    "Here, we create the DataFrame from a list of lists where each inner list represents the values for one row.<br>\n",
    "Note that We explicitly specify the column names when creating the DataFrame.\n"
   ]
  },
  {
   "cell_type": "code",
   "execution_count": 58,
   "id": "5649e684-0aec-4461-9c87-a33e937603e7",
   "metadata": {
    "scrolled": true
   },
   "outputs": [
    {
     "data": {
      "text/html": [
       "<div>\n",
       "<style scoped>\n",
       "    .dataframe tbody tr th:only-of-type {\n",
       "        vertical-align: middle;\n",
       "    }\n",
       "\n",
       "    .dataframe tbody tr th {\n",
       "        vertical-align: top;\n",
       "    }\n",
       "\n",
       "    .dataframe thead th {\n",
       "        text-align: right;\n",
       "    }\n",
       "</style>\n",
       "<table border=\"1\" class=\"dataframe\">\n",
       "  <thead>\n",
       "    <tr style=\"text-align: right;\">\n",
       "      <th></th>\n",
       "      <th>Name</th>\n",
       "      <th>Age</th>\n",
       "      <th>City</th>\n",
       "    </tr>\n",
       "  </thead>\n",
       "  <tbody>\n",
       "    <tr>\n",
       "      <th>0</th>\n",
       "      <td>Alice</td>\n",
       "      <td>25</td>\n",
       "      <td>New York</td>\n",
       "    </tr>\n",
       "    <tr>\n",
       "      <th>1</th>\n",
       "      <td>Bob</td>\n",
       "      <td>30</td>\n",
       "      <td>Los Angeles</td>\n",
       "    </tr>\n",
       "    <tr>\n",
       "      <th>2</th>\n",
       "      <td>Charlie</td>\n",
       "      <td>35</td>\n",
       "      <td>Chicago</td>\n",
       "    </tr>\n",
       "  </tbody>\n",
       "</table>\n",
       "</div>"
      ],
      "text/plain": [
       "      Name  Age         City\n",
       "0    Alice   25     New York\n",
       "1      Bob   30  Los Angeles\n",
       "2  Charlie   35      Chicago"
      ]
     },
     "execution_count": 58,
     "metadata": {},
     "output_type": "execute_result"
    }
   ],
   "source": [
    "data = [\n",
    "    ['Alice', 25, 'New York'],\n",
    "    ['Bob', 30, 'Los Angeles'],\n",
    "    ['Charlie', 35, 'Chicago']\n",
    "]\n",
    "\n",
    "df = pd.DataFrame(data, columns=['Name', 'Age', 'City'])\n",
    "df"
   ]
  },
  {
   "cell_type": "markdown",
   "id": "45459114-f850-49f2-bf74-c8dd423d6822",
   "metadata": {},
   "source": [
    "# Accessing Data in a DataFrame\n",
    "---\n",
    "Once you have a DataFrame, you can access its data in various ways:"
   ]
  },
  {
   "cell_type": "markdown",
   "id": "cbd34cff-a7a5-4bd1-8fd5-dd7942fa8f8f",
   "metadata": {},
   "source": [
    "[//]: # (Accessing Data in a DataFrame: Ist by column name -> Markdown cell)\n",
    "* By column name:"
   ]
  },
  {
   "cell_type": "code",
   "execution_count": 59,
   "id": "e0f082d7-60a9-430a-b1d5-e835171c9793",
   "metadata": {
    "jp-MarkdownHeadingCollapsed": true
   },
   "outputs": [
    {
     "data": {
      "text/plain": [
       "0      Alice\n",
       "1        Bob\n",
       "2    Charlie\n",
       "Name: Name, dtype: object"
      ]
     },
     "execution_count": 59,
     "metadata": {},
     "output_type": "execute_result"
    }
   ],
   "source": [
    "    df['Name']"
   ]
  },
  {
   "cell_type": "markdown",
   "id": "bdf265bf-d609-475f-a0d8-ac4e505f58ba",
   "metadata": {},
   "source": [
    "[//]: # (Accessing Data in a DataFrame: 2nd by row index -> Markdown cell)\n",
    "* By row index:"
   ]
  },
  {
   "cell_type": "code",
   "execution_count": 60,
   "id": "5dd12c12-365d-43ba-aa9f-f81a459dab99",
   "metadata": {
    "jp-MarkdownHeadingCollapsed": true
   },
   "outputs": [
    {
     "data": {
      "text/plain": [
       "Name       Alice\n",
       "Age           25\n",
       "City    New York\n",
       "Name: 0, dtype: object"
      ]
     },
     "execution_count": 60,
     "metadata": {},
     "output_type": "execute_result"
    }
   ],
   "source": [
    "    df.iloc[0]"
   ]
  },
  {
   "cell_type": "markdown",
   "id": "c39be56a-55a8-4cd6-905b-32b9d7fa6b60",
   "metadata": {},
   "source": [
    "[//]: # (Accessing Data in a DataFrame: 3rd by using both -> Markdown cell)\n",
    "* Using both:"
   ]
  },
  {
   "cell_type": "code",
   "execution_count": 61,
   "id": "e5b3c9c5-6969-4240-a81f-a1b424477f9f",
   "metadata": {
    "jp-MarkdownHeadingCollapsed": true
   },
   "outputs": [
    {
     "data": {
      "text/plain": [
       "'Alice'"
      ]
     },
     "execution_count": 61,
     "metadata": {},
     "output_type": "execute_result"
    }
   ],
   "source": [
    "    df.loc[0, 'Name']"
   ]
  },
  {
   "cell_type": "markdown",
   "id": "1f1b2335-1cf4-4c9b-8ea8-8a78e6cace7d",
   "metadata": {
    "jp-MarkdownHeadingCollapsed": true
   },
   "source": [
    "[//]: # (Accessing Data in a DataFrame)\n",
    "* By row index:"
   ]
  },
  {
   "cell_type": "markdown",
   "id": "c358a465-f71a-4b96-8808-ebee2a718186",
   "metadata": {},
   "source": [
    "# Conclusion\n",
    "---\n",
    "Pandas DataFrames are a fundamental tool in the data analysis toolkit for Python users. They provide a<br>\n",
    "powerful way to organize, manipulate, and analyze data efficiently. Whether you’re working with small<br>\n",
    "datasets or handling large-scale data, mastering DataFrames will allow you to tackle a wide range of data-<br>\n",
    "related tasks with ease.\n",
    "\n",
    "In this introduction, we’ve covered the basics of what a DataFrame is, how to create one, and how to<br>\n",
    "access columns, rows, and individual cells in a DataFrame. As you continue to explore Pandas, you’ll<br>\n",
    "discover many more features and capabilities that make DataFrames an indispensable part of Python<br>\n",
    "programming. The table below contains a number of resources related to Pandas.\n",
    "\n",
    "---"
   ]
  },
  {
   "cell_type": "markdown",
   "id": "30944516-357d-4bf7-8ebb-b73025bbd093",
   "metadata": {},
   "source": [
    "**Resource** | **Description** |\n",
    "| :-----  | :-----  |\n",
    "| [Pandas Documentation] | Official documentation for Pandas. | \n",
    "| [Python for Data Analysis] | Comprehensive guide by Pandas creator, Wes McKinney. | \n",
    "| [Real Python: The Pandas DataFrame] | Tutorials on using Pandas for data analysis. | \n",
    "| [Kaggle Pandas] | Free introductory course on Pandas by Kaggle. | \n",
    "| [DataCamp Pandas Tutorial] | Detailed tutorials and exercises on Pandas. | \n",
    "***\n",
    "\n",
    "[//]: # (nonvisible Links with References - as seen in the Dillinger.io Teplate)    \n",
    "\n",
    "[Pandas Documentation]: <https://pandas.pydata.org/> \n",
    "[Python for Data Analysis]: <https://www.oreilly.com/library/view/python-for-data/9781491957653/>\n",
    "[Real Python: The Pandas DataFrame]: <https://realpython.com/pandas-dataframe/>\n",
    "[Kaggle Pandas]: <https://www.kaggle.com/learn/pandas>\n",
    "[DataCamp Pandas Tutorial]: <https://www.datacamp.com/community/tutorials/pandas-tutorial-dataframe-python>\n",
    "\n"
   ]
  }
 ],
 "metadata": {
  "kernelspec": {
   "display_name": "Python 3 (ipykernel)",
   "language": "python",
   "name": "python3"
  },
  "language_info": {
   "codemirror_mode": {
    "name": "ipython",
    "version": 3
   },
   "file_extension": ".py",
   "mimetype": "text/x-python",
   "name": "python",
   "nbconvert_exporter": "python",
   "pygments_lexer": "ipython3",
   "version": "3.11.13"
  }
 },
 "nbformat": 4,
 "nbformat_minor": 5
}
